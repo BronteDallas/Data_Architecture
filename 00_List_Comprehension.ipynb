{
  "nbformat": 4,
  "nbformat_minor": 0,
  "metadata": {
    "colab": {
      "name": "00 List Comprehension.ipynb",
      "provenance": [],
      "include_colab_link": true
    },
    "kernelspec": {
      "name": "python3",
      "display_name": "Python 3"
    },
    "language_info": {
      "name": "python"
    }
  },
  "cells": [
    {
      "cell_type": "markdown",
      "metadata": {
        "id": "view-in-github",
        "colab_type": "text"
      },
      "source": [
        "<a href=\"https://colab.research.google.com/github/BronteDallas/Data_Architecture_-_Machine_Learning/blob/main/00_List_Comprehension.ipynb\" target=\"_parent\"><img src=\"https://colab.research.google.com/assets/colab-badge.svg\" alt=\"Open In Colab\"/></a>"
      ]
    },
    {
      "cell_type": "code",
      "execution_count": 1,
      "metadata": {
        "id": "StPDIw6594T-"
      },
      "outputs": [],
      "source": [
        "# lambda-> 1 line execution (also ETL)\n",
        "# list comprehension -> (ETL of LISTS)uses lambda style 1 line execution\n",
        "#       -> objective is to loop over a dataset and generate data \n",
        "#       -> Extract from a list, transform within a column, load the resulting\n",
        "#             list anywhere"
      ]
    },
    {
      "cell_type": "code",
      "source": [
        "odds = range(1,25, 2)"
      ],
      "metadata": {
        "id": "-hRLpKx0-b4c"
      },
      "execution_count": 2,
      "outputs": []
    },
    {
      "cell_type": "code",
      "source": [
        "for i in odds:\n",
        "  print(i, end=\" \")"
      ],
      "metadata": {
        "colab": {
          "base_uri": "https://localhost:8080/"
        },
        "id": "3smtk6LI-kpy",
        "outputId": "e919609e-8eef-4d15-bd35-c73077ff4e76"
      },
      "execution_count": 5,
      "outputs": [
        {
          "output_type": "stream",
          "name": "stdout",
          "text": [
            "1 3 5 7 9 11 13 15 17 19 21 23 "
          ]
        }
      ]
    },
    {
      "cell_type": "code",
      "source": [
        "# Transformation\n",
        "# syntax-> [ How_to_tx_individual_row for_loop_original_data ]\n",
        "even = [ odd+1 for odd in odds]"
      ],
      "metadata": {
        "id": "unRx9GxN-lY7"
      },
      "execution_count": 6,
      "outputs": []
    },
    {
      "cell_type": "code",
      "source": [
        "even"
      ],
      "metadata": {
        "colab": {
          "base_uri": "https://localhost:8080/"
        },
        "id": "-a2PqALG_Hty",
        "outputId": "29bde005-e2ed-4a76-c22b-5e4ef3dcec4c"
      },
      "execution_count": 7,
      "outputs": [
        {
          "output_type": "execute_result",
          "data": {
            "text/plain": [
              "[2, 4, 6, 8, 10, 12, 14, 16, 18, 20, 22, 24]"
            ]
          },
          "metadata": {},
          "execution_count": 7
        }
      ]
    },
    {
      "cell_type": "code",
      "source": [
        "# conditional tranformations\n",
        "square_div_by_5 = [ odd*odd if odd%5==0 else None for odd in odds]"
      ],
      "metadata": {
        "id": "ITGgDDNJ_IzY"
      },
      "execution_count": 8,
      "outputs": []
    },
    {
      "cell_type": "code",
      "source": [
        "square_div_by_5"
      ],
      "metadata": {
        "colab": {
          "base_uri": "https://localhost:8080/"
        },
        "id": "bnCP8FZ6_ncR",
        "outputId": "fe2c3b7d-0efe-44fe-acae-892892f28690"
      },
      "execution_count": 9,
      "outputs": [
        {
          "output_type": "execute_result",
          "data": {
            "text/plain": [
              "[None, None, 25, None, None, None, None, 225, None, None, None, None]"
            ]
          },
          "metadata": {},
          "execution_count": 9
        }
      ]
    },
    {
      "cell_type": "code",
      "source": [
        "#dictionary comprehension \n",
        "nums = {1:2, \"pikachu\":\"shaktiman\", True:False, 0.14:3.14}\n"
      ],
      "metadata": {
        "id": "2OSrowrM_pJ2"
      },
      "execution_count": 22,
      "outputs": []
    },
    {
      "cell_type": "code",
      "source": [
        "opposite_nums = {value:key for key,value in nums.items()}"
      ],
      "metadata": {
        "id": "2aUKANlrAzKW"
      },
      "execution_count": 23,
      "outputs": []
    },
    {
      "cell_type": "code",
      "source": [
        "opposite_nums"
      ],
      "metadata": {
        "colab": {
          "base_uri": "https://localhost:8080/"
        },
        "id": "G0qH5gnwBHmu",
        "outputId": "33284d9a-971e-4602-caa4-f414877d5201"
      },
      "execution_count": 24,
      "outputs": [
        {
          "output_type": "execute_result",
          "data": {
            "text/plain": [
              "{3.14: 0.14, False: 1, 'shaktiman': 'pikachu'}"
            ]
          },
          "metadata": {},
          "execution_count": 24
        }
      ]
    },
    {
      "cell_type": "code",
      "source": [
        "word_thes = {1:\"hello\", 2:'bye', 3:'world', 4:'sun'}"
      ],
      "metadata": {
        "id": "HfTGIR-WBIvI"
      },
      "execution_count": 43,
      "outputs": []
    },
    {
      "cell_type": "code",
      "source": [
        "word_thes"
      ],
      "metadata": {
        "id": "vLtKL8JkV0mj",
        "outputId": "246e5338-7336-4771-bd6a-e37c00a7da9e",
        "colab": {
          "base_uri": "https://localhost:8080/"
        }
      },
      "execution_count": 44,
      "outputs": [
        {
          "output_type": "execute_result",
          "data": {
            "text/plain": [
              "{1: 'hello', 2: 'bye', 3: 'world', 4: 'sun'}"
            ]
          },
          "metadata": {},
          "execution_count": 44
        }
      ]
    },
    {
      "cell_type": "code",
      "source": [
        "# enter a new terms- bird -> position 0, and word-> 1"
      ],
      "metadata": {
        "id": "C88tpbekBgnQ"
      },
      "execution_count": 45,
      "outputs": []
    },
    {
      "cell_type": "code",
      "source": [
        "word_thes[0] = \"bird\"\n",
        "word_thes[1] = \"word\""
      ],
      "metadata": {
        "id": "BnV7RD4CVsqh"
      },
      "execution_count": 46,
      "outputs": []
    },
    {
      "cell_type": "code",
      "source": [
        "word_thes"
      ],
      "metadata": {
        "id": "XF_ft2dGWCAH",
        "outputId": "0f49e8d3-157a-49fd-899a-5c4eea7364df",
        "colab": {
          "base_uri": "https://localhost:8080/"
        }
      },
      "execution_count": 47,
      "outputs": [
        {
          "output_type": "execute_result",
          "data": {
            "text/plain": [
              "{0: 'bird', 1: 'word', 2: 'bye', 3: 'world', 4: 'sun'}"
            ]
          },
          "metadata": {},
          "execution_count": 47
        }
      ]
    },
    {
      "cell_type": "code",
      "source": [
        "# shift all the keys by 1 position"
      ],
      "metadata": {
        "id": "rgTtNO9vBnua"
      },
      "execution_count": 48,
      "outputs": []
    },
    {
      "cell_type": "code",
      "source": [
        "word_thes = { k+1:v for k,v in word_thes.items()}"
      ],
      "metadata": {
        "id": "2uU7o5KJBzCz"
      },
      "execution_count": 49,
      "outputs": []
    },
    {
      "cell_type": "code",
      "source": [
        "word_thes"
      ],
      "metadata": {
        "colab": {
          "base_uri": "https://localhost:8080/"
        },
        "id": "Dwcm6msMB_kb",
        "outputId": "99da01a8-7baf-4172-8123-03b1a66a9e29"
      },
      "execution_count": 50,
      "outputs": [
        {
          "output_type": "execute_result",
          "data": {
            "text/plain": [
              "{1: 'bird', 2: 'word', 3: 'bye', 4: 'world', 5: 'sun'}"
            ]
          },
          "metadata": {},
          "execution_count": 50
        }
      ]
    }
  ]
}