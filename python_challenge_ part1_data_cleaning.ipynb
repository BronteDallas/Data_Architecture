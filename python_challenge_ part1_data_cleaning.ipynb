{
  "nbformat": 4,
  "nbformat_minor": 0,
  "metadata": {
    "colab": {
      "name": "Untitled3.ipynb",
      "provenance": [],
      "authorship_tag": "ABX9TyNc33AVxKe7txkIWtyjd8D6",
      "include_colab_link": true
    },
    "kernelspec": {
      "name": "python3",
      "display_name": "Python 3"
    },
    "language_info": {
      "name": "python"
    }
  },
  "cells": [
    {
      "cell_type": "markdown",
      "metadata": {
        "id": "view-in-github",
        "colab_type": "text"
      },
      "source": [
        "<a href=\"https://colab.research.google.com/github/BronteDallas/Data_Architecture/blob/main/python_challenge_%20part1_data_cleaning.ipynb\" target=\"_parent\"><img src=\"https://colab.research.google.com/assets/colab-badge.svg\" alt=\"Open In Colab\"/></a>"
      ]
    },
    {
      "cell_type": "code",
      "execution_count": 1,
      "metadata": {
        "id": "NK6H9Z4iy3Iy"
      },
      "outputs": [],
      "source": [
        "# Challenge Part 1\n",
        "import string\n",
        "data = 'Jack and jill were walking up the hill on the way to the Supermarket to get some mineral water when Jack tripped over a pothole in the road.He fell down and broke his smartphone.    \"Oh dear!\" said jack;actually,he didn’t say \"Oh dear\",he used some words that Jill was sure his mother wouldn’t approve of and went on to make some descriptive comments on what he thought of the state of the roads leading up the hill.jill was so shocked that she didn’t look where she was going and fell down,too, tumbling all the way down the hill;  jack got up and went home to mend his phone.    jill suggested using her granny’s remedy of vinegar and brown paper to fix the phone; Jack replied with a comment that got him grounded for a week during which time he repaired his phone with duct tape and superglue but it was never the same again .'\n",
        "\n",
        "data = ('Jack and jill were walking up the hill on the way to the Supermarket to get some mineral water' \n",
        "+ ' when Jack tripped over a pothole in the road.He fell down and broke his smartphone.    \"Oh dear!\" said jack'\n",
        "+ ';actually,,he didn’t say \"Oh dear\",he used some words that Jill was sure his mother wouldn’t approve of and '\n",
        "+ 'went on to make some descriptive comments on what he thought of the state of the roads leading up the hill.'\n",
        "+ 'jill was so shocked that she didn’t look where she was going and fell down,too, tumbling all the way down the '\n",
        "+ 'hill;  jack got up and went home to mend his phone..    jill suggested using her granny’s remedy of vinegar and '\n",
        "+ 'brown paper to fix the phone; Jack replied with a comment that got him grounded for a week during which time he '\n",
        "+ 'repaired his phone with duct tape and superglue but it was never the same again .')"
      ]
    },
    {
      "cell_type": "markdown",
      "source": [
        ""
      ],
      "metadata": {
        "id": "IptU3PFOzNkM"
      }
    },
    {
      "cell_type": "code",
      "source": [
        "## #################################################################\n",
        "## checking and fixing speech marks/single quotes has been removed\n",
        "## as being too complex for this level. Below is an example of \n",
        "## checking but not fixing. \n",
        "####################################################################"
      ],
      "metadata": {
        "id": "UpQ1KnLbzPE5"
      },
      "execution_count": null,
      "outputs": []
    },
    {
      "cell_type": "code",
      "source": [
        "def check_quotes(text):\n",
        "    speech_mark = '\"'\n",
        "    single_quote = \"'\"\n",
        "    while True: \n",
        "        srch_result = quotes_match(text, speech_mark, single_quote)\n",
        "        if srch_result[0] == True:\n",
        "            if len(srch_result[1]) == 0:\n",
        "                break\n",
        "            else:\n",
        "                text = srch_result[1]\n",
        "        else:\n",
        "            raise Exception(\"Quotation marks do not match\")"
      ],
      "metadata": {
        "id": "tf4qJGc5y_aI"
      },
      "execution_count": 2,
      "outputs": []
    },
    {
      "cell_type": "code",
      "source": [
        "## ######################################################\n",
        "## note that this function returns two values as a tuple\n",
        "## ######################################################\n",
        "def quotes_match(srch_text, srch1, srch2):\n",
        "    if srch1 in srch_text:\n",
        "        start = srch_text.find(srch1)\n",
        "        end = srch_text.find(srch1,start + 1)\n",
        "        block = srch_text[start:end]\n",
        "        if srch2 not in block:\n",
        "            ## speech marks have matched up\n",
        "            return True, srch_text[end+1:]\n",
        "        else:\n",
        "            return False, \"\""
      ],
      "metadata": {
        "id": "FrgPL4iezn_u"
      },
      "execution_count": 3,
      "outputs": []
    },
    {
      "cell_type": "code",
      "source": [
        "## ###########################################\n",
        "## simple function to recombine the sentences \n",
        "## into a single piece of text\n",
        "## ###########################################\n",
        "def displayText(sentences):\n",
        "    cleaned_text = \"\"\n",
        "    for x in sentences:\n",
        "        cleaned_text = cleaned_text + x\n",
        "    print(cleaned_text)"
      ],
      "metadata": {
        "id": "i6GWJ08tz0HL"
      },
      "execution_count": 4,
      "outputs": []
    },
    {
      "cell_type": "code",
      "source": [
        "## #############################################\n",
        "## code to split the text into sentences, fix\n",
        "## spaces at the end of sentences and capitalise \n",
        "## the first letter in each sentence\n",
        "## #############################################\n",
        "def fix_sentence_ending(sentence):\n",
        "    if(len(sentence.strip()) == 0):\n",
        "        return \"\";\n",
        "    else:\n",
        "        temp = sentence.strip() + \".  \"\n",
        "        ## capitalize *only* the first character\n",
        "        return temp[0].upper() + temp[1:]"
      ],
      "metadata": {
        "id": "Qv5_U_U8z4eE"
      },
      "execution_count": 5,
      "outputs": []
    },
    {
      "cell_type": "code",
      "source": [
        "## ###########################################\n",
        "## replace semi-colons with full stops\n",
        "## ###########################################\n",
        "def fix_semicolons(text):\n",
        "    return text.replace(\";\",\".\")"
      ],
      "metadata": {
        "id": "xF62Nflbz7q6"
      },
      "execution_count": 6,
      "outputs": []
    },
    {
      "cell_type": "code",
      "source": [
        "## ###########################################\n",
        "## fix spacing after commasd\n",
        "## ###########################################\n",
        "def fix_commas(text):\n",
        "    ## reduce all comma + space to just comma\n",
        "    text = text.replace(\", \",\",\")\n",
        "    ## now we can swap all commas for comma + space\n",
        "    ## whether they had a trailing space or not\n",
        "    return text.replace(\",\",\", \")"
      ],
      "metadata": {
        "id": "dpmocceMz-pg"
      },
      "execution_count": 7,
      "outputs": []
    },
    {
      "cell_type": "code",
      "source": [
        "## #######################################################\n",
        "## two possibilities here - hard coding is more selective \n",
        "## but rigid. using punctuation property is comprehensive\n",
        "## #######################################################\n",
        "def fix_duplicate_punctuation(text):\n",
        "    ## this could be achieved through hard-coding\n",
        "    ##for char in [\".\",\",\"... etc]:\n",
        "    ## but this easily deals with all punctuation chars\n",
        "    for char in string.punctuation:    \n",
        "        text = text.replace(char+char,char)\n",
        "    return text"
      ],
      "metadata": {
        "id": "EdQacS360CKg"
      },
      "execution_count": 8,
      "outputs": []
    },
    {
      "cell_type": "code",
      "source": [
        "## ###########################################\n",
        "## for each name in the lookup list, replace \n",
        "## the word in the text with a capitalised\n",
        "## version\n",
        "## ###########################################\n",
        "def fix_proper_names(text):\n",
        "    for name in proper_names:\n",
        "        text = text.replace(name, name.capitalize())\n",
        "    return text"
      ],
      "metadata": {
        "id": "L0mpmTwq0FFU"
      },
      "execution_count": 9,
      "outputs": []
    },
    {
      "cell_type": "code",
      "source": [
        "## ###########################################\n",
        "## main\n",
        "## ###########################################\n",
        "## for enhancement - define list of proper names\n",
        "proper_names = {\"jill\",\"jack\"}"
      ],
      "metadata": {
        "id": "QZN9pOAE0Hak"
      },
      "execution_count": 10,
      "outputs": []
    },
    {
      "cell_type": "code",
      "source": [
        "# fix proper names\n",
        "data = fix_proper_names(data)\n",
        "\n",
        "## fix duplicated punctuation if any\n",
        "data = fix_duplicate_punctuation(data)"
      ],
      "metadata": {
        "id": "N9e24CT_0MiO"
      },
      "execution_count": 11,
      "outputs": []
    },
    {
      "cell_type": "code",
      "source": [
        "## replace the semi-colons with full stops\n",
        "## trailing spaces will be fixed in fix_sentence_ending function\n",
        "data = fix_semicolons(data)\n",
        "data = fix_commas(data)\n",
        "##print(data)\n",
        "\n",
        "def check_quotes(text):\n",
        "    srch = \"'\"\n",
        "    if srch in text:\n",
        "        start = text.find(srch)\n",
        "        end = text.find(srch[start])\n",
        "        block = text[start:end]\n",
        "    srch = '\"'\n",
        "    if srch in text:\n",
        "        start = text.find(srch)\n",
        "        end = text.find(srch[start])\n",
        "        block = text[start:end] "
      ],
      "metadata": {
        "id": "CE3wBNHk0PEI"
      },
      "execution_count": 12,
      "outputs": []
    },
    {
      "cell_type": "code",
      "source": [
        "## break up the text into sentences\n",
        "sentences = data.split(\".\")\n",
        "for i in range(len(sentences)):\n",
        "    x = sentences[i]\n",
        "    sentences[i] = fix_sentence_ending(x)  \n",
        "    ##print(sentences[i])\n",
        "\n",
        "displayText(sentences)"
      ],
      "metadata": {
        "colab": {
          "base_uri": "https://localhost:8080/"
        },
        "id": "lraPuHFi0fH5",
        "outputId": "2e5cb695-7146-472e-fac8-6469fa641552"
      },
      "execution_count": 13,
      "outputs": [
        {
          "output_type": "stream",
          "name": "stdout",
          "text": [
            "Jack and Jill were walking up the hill on the way to the Supermarket to get some mineral water when Jack tripped over a pothole in the road.  He fell down and broke his smartphone.  \"Oh dear!\" said Jack.  Actually, he didn’t say \"Oh dear\", he used some words that Jill was sure his mother wouldn’t approve of and went on to make some descriptive comments on what he thought of the state of the roads leading up the hill.  Jill was so shocked that she didn’t look where she was going and fell down, too, tumbling all the way down the hill.  Jack got up and went home to mend his phone.  Jill suggested using her granny’s remedy of vinegar and brown paper to fix the phone.  Jack replied with a comment that got him grounded for a week during which time he repaired his phone with duct tape and superglue but it was never the same again.  \n"
          ]
        }
      ]
    }
  ]
}