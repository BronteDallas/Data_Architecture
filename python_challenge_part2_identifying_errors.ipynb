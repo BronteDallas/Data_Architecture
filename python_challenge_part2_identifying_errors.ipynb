{
  "nbformat": 4,
  "nbformat_minor": 0,
  "metadata": {
    "colab": {
      "name": "Untitled4.ipynb",
      "provenance": [],
      "authorship_tag": "ABX9TyMQUvd9k0TnCXugsmcEyvbe",
      "include_colab_link": true
    },
    "kernelspec": {
      "name": "python3",
      "display_name": "Python 3"
    },
    "language_info": {
      "name": "python"
    }
  },
  "cells": [
    {
      "cell_type": "markdown",
      "metadata": {
        "id": "view-in-github",
        "colab_type": "text"
      },
      "source": [
        "<a href=\"https://colab.research.google.com/github/BronteDallas/Data_Architecture/blob/main/python_challenge_part2_identifying_errors.ipynb\" target=\"_parent\"><img src=\"https://colab.research.google.com/assets/colab-badge.svg\" alt=\"Open In Colab\"/></a>"
      ]
    },
    {
      "cell_type": "code",
      "execution_count": 1,
      "metadata": {
        "id": "OvEUXhaYkaYS"
      },
      "outputs": [],
      "source": [
        "# Challenge Part_2\n",
        "\n",
        "## check each lookup to see if text in in there \n",
        "## if it is the \"index\" will be equivalent to the value\n",
        "## print out of error not required for challenge\n",
        "def check_for_valid_str(text):\n",
        "    # make local variable lower case to prevent case\n",
        "    # sensitivity issues\n",
        "    text = text.lower()\n",
        "    if (str.isdigit(text)):\n",
        "        if(int(text) >= 0 and int(text) <= 20):\n",
        "            return int(text)\n",
        "        else:\n",
        "            print(text + \" is out of range\")\n",
        "            return -1\n",
        "    elif (text in LookupGerman):    \n",
        "        return LookupGerman.index(text)\n",
        "    elif (text in LookupFrench):\n",
        "        return LookupFrench.index(text)\n",
        "    elif (text in LookupEnglish):\n",
        "        return LookupEnglish.index(text)\n",
        "    else:\n",
        "        if (len(text) == 0):\n",
        "            print(\"Empty value is invalid\")\n",
        "        else:\n",
        "            print(text + \" is not in lists\")\n",
        "        return -1"
      ]
    },
    {
      "cell_type": "code",
      "source": [
        "## function to loop around contents of one set of data\n",
        "## checking one element at a time \n",
        "def check_dataset(datarow):\n",
        "    temp = []\n",
        "    for text in datarow:\n",
        "        # check each element\n",
        "        result = check_for_valid_str(text)\n",
        "        if (result == -1):\n",
        "            return False\n",
        "        else:\n",
        "            # valid number so store it\n",
        "            temp.append(result)\n",
        "    # if we got to here we have a valid row\n",
        "    valid_data.append(temp)\n",
        "    return True"
      ],
      "metadata": {
        "id": "wxrQdB9PkloK"
      },
      "execution_count": 2,
      "outputs": []
    },
    {
      "cell_type": "code",
      "source": [
        "data = [[\"16\", \"10\", \"8\", \"3\", \"7\"],\n",
        "       [\"8\", \"09\", \"19\", \"20\", \"4\"],\n",
        "       [\"Sechs\", \"Acht\", \"Sechzehn\", \"Funf\", \"null\"],\n",
        "       [\"1\", \"30\", \"2\", \"5\", \"7\"],\n",
        "       [\"Vierzehn\", \"Eins\", \"zwei\", \"Neun\", \"Drei\"],\n",
        "       [\"six\", \"neuf\", \"seize\", \"zero\",\"\"],\n",
        "       [\"fourteen\", \"Eleven\", \"Forteen\", \"eight\", \"Twenty\"],\n",
        "       [\"Douze\", \"Onze\", \"Huit\", \"Quinze\", \"Sept\"],\n",
        "       [\"018\", \"09\", \"09\", \"022\", \"04\"],\n",
        "       [\"un\", \"trois\", \"quatorze\", \"dix-huit\", \"vingt\"],\n",
        "       [\"Five\", \"Three\", \"Nineteen\", \"Twenty\", \"zero\"],\n",
        "       [\"einundzwanzig\", \"Vierzehn\", \"Eins\", \"zwei\",\"Vier\"]]"
      ],
      "metadata": {
        "id": "qIZSFP1sks66"
      },
      "execution_count": 3,
      "outputs": []
    },
    {
      "cell_type": "code",
      "source": [
        "def print_data(data_list):\n",
        "    for item in data_list:\n",
        "        print(item)"
      ],
      "metadata": {
        "id": "MskexvBZkxcx"
      },
      "execution_count": 4,
      "outputs": []
    },
    {
      "cell_type": "code",
      "source": [
        "####   LOOKUP LISTS   ####\n",
        "## Note lookup elements are all LOWER CASE\n",
        "LookupEnglish = [\"zero\",\"one\",\"two\",\"three\",\"four\",\"five\",\"six\",\"seven\",\"eight\",\"nine\",\"ten\",\"eleven\",\"twelve\",\"thirteen\",\"fourteen\",\"fifteen\",\"sixteen\",\"seventeen\",\"eighteen\",\"nineteen\",\"twenty\"]\n",
        "LookupGerman = [\"null\",\"eins\", \"zwei\", \"drei\", \"vier\",\"funf\",\"sechs\", \"acht\", \"neun\", \"zehn\",\"elf\",\"zwolf\",\"dreizehn\",\"vierzehn\",\"funfzehn\",\"sechzehn\",\"siebzehn\",\"achtzehn\",\"neunzehn\",\"zwanzig\"]\n",
        "LookupFrench = [\"zero\",\"un\",\"deux\",\"trois\",\"quatre\",\"cinq\",\"six\",\"sept\",\"huit\",\"neuf\",\"dix\",\"onze\",\"douze\",\"treize\",\"quatorze\",\"quinze\",\"seize\",\"dix-sept\",\"dix-huit\",\"dix-neuf\",\"vingt\"]\n",
        "\n",
        "rejected_data = []\n",
        "valid_data = []"
      ],
      "metadata": {
        "id": "wGXtcoWyk07U"
      },
      "execution_count": 6,
      "outputs": []
    },
    {
      "cell_type": "code",
      "source": [
        "## main program area\n",
        "for data_set in data:\n",
        "    if(check_dataset(data_set) == False):\n",
        "        rejected_data.append(data_set)\n",
        "print(\"=================== VALID DATA =============================\")\n",
        "print_data(valid_data)\n",
        "print(\"================== INVALID DATA ==============================\")\n",
        "print_data(rejected_data)"
      ],
      "metadata": {
        "colab": {
          "base_uri": "https://localhost:8080/"
        },
        "id": "nJaUB4rolB5F",
        "outputId": "976b5cab-eace-4f2c-db92-34a4283ad49d"
      },
      "execution_count": 7,
      "outputs": [
        {
          "output_type": "stream",
          "name": "stdout",
          "text": [
            "30 is out of range\n",
            "Empty value is invalid\n",
            "forteen is not in lists\n",
            "022 is out of range\n",
            "einundzwanzig is not in lists\n",
            "=================== VALID DATA =============================\n",
            "[16, 10, 8, 3, 7]\n",
            "[8, 9, 19, 20, 4]\n",
            "[6, 7, 15, 5, 0]\n",
            "[13, 1, 2, 8, 3]\n",
            "[12, 11, 8, 15, 7]\n",
            "[1, 3, 14, 18, 20]\n",
            "[5, 3, 19, 20, 0]\n",
            "================== INVALID DATA ==============================\n",
            "['1', '30', '2', '5', '7']\n",
            "['six', 'neuf', 'seize', 'zero', '']\n",
            "['fourteen', 'Eleven', 'Forteen', 'eight', 'Twenty']\n",
            "['018', '09', '09', '022', '04']\n",
            "['einundzwanzig', 'Vierzehn', 'Eins', 'zwei', 'Vier']\n"
          ]
        }
      ]
    },
    {
      "cell_type": "code",
      "source": [
        ""
      ],
      "metadata": {
        "id": "s1yy30tfk3iZ"
      },
      "execution_count": null,
      "outputs": []
    }
  ]
}