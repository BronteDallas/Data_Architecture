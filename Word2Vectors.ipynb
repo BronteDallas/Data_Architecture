{
  "nbformat": 4,
  "nbformat_minor": 0,
  "metadata": {
    "colab": {
      "name": "09 Word2Vectors.ipynb",
      "provenance": [],
      "include_colab_link": true
    },
    "kernelspec": {
      "name": "python3",
      "display_name": "Python 3"
    }
  },
  "cells": [
    {
      "cell_type": "markdown",
      "metadata": {
        "id": "view-in-github",
        "colab_type": "text"
      },
      "source": [
        "<a href=\"https://colab.research.google.com/github/BronteDallas/Data_Architecture_-_Machine_Learning/blob/main/Word2Vectors.ipynb\" target=\"_parent\"><img src=\"https://colab.research.google.com/assets/colab-badge.svg\" alt=\"Open In Colab\"/></a>"
      ]
    },
    {
      "cell_type": "code",
      "metadata": {
        "id": "8Pcgpfvz0RGb"
      },
      "source": [
        "import numpy as np"
      ],
      "execution_count": 12,
      "outputs": []
    },
    {
      "cell_type": "code",
      "metadata": {
        "id": "147TqC9T0cg5",
        "colab": {
          "base_uri": "https://localhost:8080/",
          "height": 53
        },
        "outputId": "5c059b28-a74b-4088-ec5e-6e9b876fc5ec"
      },
      "source": [
        "# BODY -> body of string from which we will dervice our vectors\n",
        "corpus_raw = 'Richie Rich is rich. The rich person is a happy person. He and She are not rich.'\n",
        "corpus_lower = corpus_raw.lower()\n",
        "corpus_lower"
      ],
      "execution_count": 13,
      "outputs": [
        {
          "output_type": "execute_result",
          "data": {
            "application/vnd.google.colaboratory.intrinsic+json": {
              "type": "string"
            },
            "text/plain": [
              "'richie rich is rich. the rich person is a happy person. he and she are not rich.'"
            ]
          },
          "metadata": {},
          "execution_count": 13
        }
      ]
    },
    {
      "cell_type": "code",
      "metadata": {
        "id": "tB1pYErB05gb",
        "colab": {
          "base_uri": "https://localhost:8080/"
        },
        "outputId": "ff085889-52ec-4139-bfb2-30f6aad4c79d"
      },
      "source": [
        "words = []\n",
        "for word in corpus_lower.split():\n",
        "  if word == '.': # independent punctuation (not directly next to a word)\n",
        "    # if punctuation is not individual word but a part of word-> bye.\n",
        "    word = word.replace('.', '') # every punctuation that we don't want should be filtered here\n",
        "    words.append(word)\n",
        "  else:\n",
        "    words.append(word)\n",
        "\n",
        "print(words)\n",
        "# TO CONVERT TO VECTORS , we don't want repeating! \n",
        "# Which DS allows us to avoid repeating? SET!!\n",
        "print(len(words))\n",
        "unique_words = set(words)\n",
        "print(unique_words)\n",
        "print(len(unique_words))"
      ],
      "execution_count": 14,
      "outputs": [
        {
          "output_type": "stream",
          "name": "stdout",
          "text": [
            "['richie', 'rich', 'is', 'rich.', 'the', 'rich', 'person', 'is', 'a', 'happy', 'person.', 'he', 'and', 'she', 'are', 'not', 'rich.']\n",
            "17\n",
            "{'and', 'rich.', 'happy', 'person.', 'are', 'she', 'rich', 'a', 'he', 'not', 'person', 'the', 'is', 'richie'}\n",
            "14\n"
          ]
        }
      ]
    },
    {
      "cell_type": "code",
      "metadata": {
        "id": "DjOiG1jl1i1m",
        "colab": {
          "base_uri": "https://localhost:8080/"
        },
        "outputId": "bc4f3e99-dce5-45ce-8454-f3205ca5d2a6"
      },
      "source": [
        "word2int = {} # this was what we had in imdb yesterday (word_index)\n",
        "int2word = {}\n",
        "vocab_size = len(unique_words)\n",
        "for i,word in enumerate(unique_words):\n",
        "  # 0,word1 - 1,word2 - 2, word3\n",
        "  word2int[word] =i \n",
        "  int2word[i] = word\n",
        "\n",
        "print(word2int)\n",
        "print(int2word)\n",
        "print(word2int['rich'])"
      ],
      "execution_count": 15,
      "outputs": [
        {
          "output_type": "stream",
          "name": "stdout",
          "text": [
            "{'and': 0, 'rich.': 1, 'happy': 2, 'person.': 3, 'are': 4, 'she': 5, 'rich': 6, 'a': 7, 'he': 8, 'not': 9, 'person': 10, 'the': 11, 'is': 12, 'richie': 13}\n",
            "{0: 'and', 1: 'rich.', 2: 'happy', 3: 'person.', 4: 'are', 5: 'she', 6: 'rich', 7: 'a', 8: 'he', 9: 'not', 10: 'person', 11: 'the', 12: 'is', 13: 'richie'}\n",
            "6\n"
          ]
        }
      ]
    },
    {
      "cell_type": "code",
      "metadata": {
        "id": "cKxVFQtT23IR"
      },
      "source": [
        "# Challenge-> Convert above steps to a lambda function for dictionary reversal "
      ],
      "execution_count": 16,
      "outputs": []
    },
    {
      "cell_type": "code",
      "source": [
        "word2int = { word:idx for idx, word in enumerate(unique_words)}\n",
        "int2word = dict(map(lambda kv: (kv[1], kv[0]), word2int.items()))"
      ],
      "metadata": {
        "id": "x-SxhXIJXCvR"
      },
      "execution_count": 17,
      "outputs": []
    },
    {
      "cell_type": "code",
      "source": [
        "word2int"
      ],
      "metadata": {
        "id": "wEI2JJO-X3pB",
        "outputId": "edcd1441-9dec-43c0-e543-59b24d0ba441",
        "colab": {
          "base_uri": "https://localhost:8080/"
        }
      },
      "execution_count": 18,
      "outputs": [
        {
          "output_type": "execute_result",
          "data": {
            "text/plain": [
              "{'a': 7,\n",
              " 'and': 0,\n",
              " 'are': 4,\n",
              " 'happy': 2,\n",
              " 'he': 8,\n",
              " 'is': 12,\n",
              " 'not': 9,\n",
              " 'person': 10,\n",
              " 'person.': 3,\n",
              " 'rich': 6,\n",
              " 'rich.': 1,\n",
              " 'richie': 13,\n",
              " 'she': 5,\n",
              " 'the': 11}"
            ]
          },
          "metadata": {},
          "execution_count": 18
        }
      ]
    },
    {
      "cell_type": "code",
      "source": [
        "int2word"
      ],
      "metadata": {
        "id": "FWfX8g2nX8bK",
        "outputId": "cb28c6df-bf32-4a28-92d9-f94c31805364",
        "colab": {
          "base_uri": "https://localhost:8080/"
        }
      },
      "execution_count": 19,
      "outputs": [
        {
          "output_type": "execute_result",
          "data": {
            "text/plain": [
              "{0: 'and',\n",
              " 1: 'rich.',\n",
              " 2: 'happy',\n",
              " 3: 'person.',\n",
              " 4: 'are',\n",
              " 5: 'she',\n",
              " 6: 'rich',\n",
              " 7: 'a',\n",
              " 8: 'he',\n",
              " 9: 'not',\n",
              " 10: 'person',\n",
              " 11: 'the',\n",
              " 12: 'is',\n",
              " 13: 'richie'}"
            ]
          },
          "metadata": {},
          "execution_count": 19
        }
      ]
    }
  ]
}